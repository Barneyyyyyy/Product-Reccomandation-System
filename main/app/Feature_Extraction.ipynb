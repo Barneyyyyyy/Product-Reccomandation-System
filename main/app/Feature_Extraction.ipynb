{
 "cells": [
  {
   "cell_type": "code",
   "execution_count": 3,
   "metadata": {},
   "outputs": [
    {
     "name": "stdout",
     "output_type": "stream",
     "text": [
      "Feature extraction completed and data saved.\n"
     ]
    }
   ],
   "source": [
    "import pandas as pd\n",
    "from sklearn.preprocessing import OneHotEncoder\n",
    "\n",
    "# Load the data\n",
    "aisles_df = pd.read_csv('../../CSVs/aisles.csv')\n",
    "departments_df = pd.read_csv('../../CSVs/departments.csv')\n",
    "order_products_prior_df = pd.read_csv('../../CSVs/order_products__prior.csv')\n",
    "order_products_train_df = pd.read_csv('../../CSVs/order_products__train.csv')\n",
    "orders_df = pd.read_csv('../../CSVs/orders.csv')\n",
    "products_df = pd.read_csv('../../CSVs/products.csv')\n",
    "sample_submission_df = pd.read_csv('../../CSVs/sample_submission.csv')\n",
    "\n",
    "# Initialize OneHotEncoder\n",
    "encoder = OneHotEncoder()\n",
    "\n",
    "# Feature extraction for aisles_df and departments_df\n",
    "# One-hot encoding for aisles\n",
    "aisle_encoded = encoder.fit_transform(aisles_df[['aisle']]).toarray()\n",
    "aisle_feature_names = encoder.get_feature_names_out(['aisle'])\n",
    "aisles_df_encoded = pd.DataFrame(aisle_encoded, columns=aisle_feature_names)\n",
    "\n",
    "# One-hot encoding for departments\n",
    "department_encoded = encoder.fit_transform(departments_df[['department']]).toarray()\n",
    "department_feature_names = encoder.get_feature_names_out(['department'])\n",
    "departments_df_encoded = pd.DataFrame(department_encoded, columns=department_feature_names)\n",
    "\n",
    "# Join encoded aisles and departments to the products dataframe\n",
    "# Assuming aisle_id and department_id are the correct columns in products_df\n",
    "products_df = products_df.join(aisles_df_encoded.set_index(aisles_df['aisle_id']), on='aisle_id')\n",
    "products_df = products_df.join(departments_df_encoded.set_index(departments_df['department_id']), on='department_id')\n",
    "\n",
    "# Aggregation on order_products_prior and order_products_train for each product\n",
    "# Assuming product_id is the correct column in these dataframes\n",
    "# Calculate total orders and reorder frequency for each product\n",
    "product_reorder_prior = order_products_prior_df.groupby('product_id')['reordered'].mean().to_frame('reorder_rate_prior')\n",
    "product_reorder_train = order_products_train_df.groupby('product_id')['reordered'].mean().to_frame('reorder_rate_train')\n",
    "\n",
    "# Merge the reorder rate back to the products dataframe\n",
    "products_df = products_df.merge(product_reorder_prior, on='product_id', how='left')\n",
    "products_df = products_df.merge(product_reorder_train, on='product_id', how='left')\n",
    "\n",
    "# Fill NaN values for products that were never reordered with 0\n",
    "products_df['reorder_rate_prior'].fillna(0, inplace=True)\n",
    "products_df['reorder_rate_train'].fillna(0, inplace=True)\n",
    "\n",
    "# Save the modified dataframes\n",
    "aisles_df_encoded.to_csv('../../CSVs/modified_aisles.csv', index=False)\n",
    "departments_df_encoded.to_csv('../../CSVs/modified_departments.csv', index=False)\n",
    "products_df.to_csv('../../CSVs/modified_products.csv', index=False)\n",
    "\n",
    "print(\"Feature extraction completed and data saved.\")\n"
   ]
  }
 ],
 "metadata": {
  "kernelspec": {
   "display_name": "CSCN8010_classic_ml",
   "language": "python",
   "name": "cscn8010_classic_ml"
  },
  "language_info": {
   "codemirror_mode": {
    "name": "ipython",
    "version": 3
   },
   "file_extension": ".py",
   "mimetype": "text/x-python",
   "name": "python",
   "nbconvert_exporter": "python",
   "pygments_lexer": "ipython3",
   "version": "3.11.5"
  }
 },
 "nbformat": 4,
 "nbformat_minor": 2
}
